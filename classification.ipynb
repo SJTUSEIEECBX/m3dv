{
 "cells": [
  {
   "cell_type": "markdown",
   "metadata": {
    "collapsed": true,
    "pycharm": {
     "name": "#%% md\n"
    }
   },
   "source": [
    "This is a project for medical 3d voxel classification mission for machine learning course."
   ]
  },
  {
   "cell_type": "code",
   "execution_count": 1,
   "metadata": {
    "pycharm": {
     "is_executing": false,
     "metadata": false,
     "name": "#%%\n"
    }
   },
   "outputs": [],
   "source": [
    "import torch\n",
    "import torch.nn as nn\n",
    "import torch.utils.data as udata\n",
    "import torchvision.transforms as transforms\n",
    "import numpy as np\n",
    "import matplotlib.pyplot as plt\n",
    "import pandas as pd\n",
    "from tqdm import tqdm_notebook\n",
    "from GoogLeNet import GoogLeNet\n",
    "from SimpleNet import SimpleNet\n",
    "from SimpleNet import CropNet\n",
    "from SimpleNet import DenseSharp\n",
    "from tensorboardX import SummaryWriter\n",
    "from DataProcessing import *"
   ]
  },
  {
   "cell_type": "markdown",
   "metadata": {
    "pycharm": {
     "metadata": false,
     "name": "#%% md\n"
    }
   },
   "source": [
    "hyper parameters definition"
   ]
  },
  {
   "cell_type": "code",
   "execution_count": 2,
   "metadata": {
    "pycharm": {
     "is_executing": false,
     "metadata": false,
     "name": "#%%\n"
    }
   },
   "outputs": [],
   "source": [
    "LR = 1e-4\n",
    "batch_size = 15\n",
    "EPOCH = 500"
   ]
  },
  {
   "cell_type": "markdown",
   "metadata": {
    "pycharm": {
     "metadata": false
    }
   },
   "source": [
    "First read data from files"
   ]
  },
  {
   "cell_type": "code",
   "execution_count": 3,
   "metadata": {
    "pycharm": {
     "is_executing": false,
     "metadata": false,
     "name": "#%%\n"
    }
   },
   "outputs": [
    {
     "data": {
      "application/vnd.jupyter.widget-view+json": {
       "model_id": "d1e7c9fe999e4fb7a250c4b7cad52ffb",
       "version_major": 2,
       "version_minor": 0
      },
      "text/plain": [
       "HBox(children=(IntProgress(value=0, description='reading', max=584, style=ProgressStyle(description_width='ini…"
      ]
     },
     "metadata": {},
     "output_type": "display_data"
    },
    {
     "name": "stdout",
     "output_type": "stream",
     "text": [
      "\n"
     ]
    },
    {
     "data": {
      "application/vnd.jupyter.widget-view+json": {
       "model_id": "db13046898814a54a4246aa4875a4235",
       "version_major": 2,
       "version_minor": 0
      },
      "text/plain": [
       "HBox(children=(IntProgress(value=0, description='reading', max=584, style=ProgressStyle(description_width='ini…"
      ]
     },
     "metadata": {},
     "output_type": "display_data"
    },
    {
     "name": "stdout",
     "output_type": "stream",
     "text": [
      "\n",
      "Read Complete!\n"
     ]
    }
   ],
   "source": [
    "voxel_train, seg_train, total_batch_size = data_read('data/train_val/candidate{}.npz', 584, notebook=True)\n",
    "voxel_test, seg_test, test_batch_size = data_read('data/test/candidate{}.npz', 584, notebook=True)\n",
    "train_label = pd.read_csv('data/train_val.csv').values[:, 1].astype(int)\n",
    "print('Read Complete!')\n"
   ]
  },
  {
   "cell_type": "code",
   "execution_count": 4,
   "metadata": {
    "pycharm": {
     "is_executing": false
    }
   },
   "outputs": [],
   "source": [
    "train_label = data_to_tensor(train_label)\n",
    "voxel_train = data_to_tensor(voxel_train)\n",
    "voxel_test = data_to_tensor(voxel_test)\n",
    "seg_train = data_to_tensor(seg_train, dtype=torch.bool)\n",
    "seg_test = data_to_tensor(seg_test, dtype=torch.bool)\n",
    "train_data = udata.TensorDataset(voxel_train, train_label)\n",
    "validate_batch_size = round(0.2 * total_batch_size)\n",
    "train_batch_size = total_batch_size - validate_batch_size\n",
    "train_data, validate_data = udata.random_split(train_data, [train_batch_size, validate_batch_size])\n",
    "voxel_loader = udata.DataLoader(train_data, batch_size, shuffle=True)\n",
    "voxel_loaderv = udata.DataLoader(validate_data, batch_size, shuffle=True)"
   ]
  },
  {
   "cell_type": "code",
   "execution_count": 5,
   "metadata": {
    "pycharm": {
     "is_executing": false
    }
   },
   "outputs": [],
   "source": [
    "masked_voxel_train = data_augment(voxel_train, normalize=True, mask=seg_train)\n",
    "masked_voxel_test = data_augment(voxel_test, normalize=True, mask=seg_test)\n",
    "masked_voxel_train = masked_voxel_train.unsqueeze(1)\n",
    "masked_voxel_test = masked_voxel_test.unsqueeze(1)\n",
    "masked_train_data = udata.TensorDataset(masked_voxel_train, train_label)\n",
    "masked_train_data, masked_validate_data = udata.random_split(masked_train_data, [train_batch_size, validate_batch_size])\n",
    "masked_voxel_loader = udata.DataLoader(masked_train_data, batch_size, shuffle=True)\n",
    "masked_voxel_loaderv = udata.DataLoader(masked_validate_data, batch_size, shuffle=True)"
   ]
  },
  {
   "cell_type": "code",
   "execution_count": 6,
   "metadata": {
    "pycharm": {}
   },
   "outputs": [],
   "source": [
    "resize_voxel_train = data_resize(voxel_train, seg_train, 32, masked=True)\n",
    "resize_voxel_test = data_resize(voxel_test, seg_test, 32, masked=True)\n",
    "resize_voxel_train = resize_voxel_train.unsqueeze(1)\n",
    "resize_voxel_test = resize_voxel_test.unsqueeze(1)\n",
    "resize_train_data = udata.TensorDataset(resize_voxel_train, train_label)\n",
    "resize_train_data, resize_validate_data = udata.random_split(resize_train_data, [train_batch_size, validate_batch_size])\n",
    "resize_voxel_loader = udata.DataLoader(resize_train_data, batch_size, shuffle=True)\n",
    "resize_voxel_loaderv = udata.DataLoader(resize_validate_data, batch_size, shuffle=True)"
   ]
  },
  {
   "cell_type": "code",
   "execution_count": 7,
   "metadata": {
    "pycharm": {
     "is_executing": false,
     "metadata": false,
     "name": "#%%\n"
    }
   },
   "outputs": [],
   "source": [
    "crop_voxel_train = data_crop(voxel_train, seg_train, crop_size=44)\n",
    "crop_voxel_test = data_crop(voxel_test, seg_test, crop_size=44)\n",
    "crop_voxel_train = crop_voxel_train.unsqueeze(1)\n",
    "crop_voxel_test = crop_voxel_test.unsqueeze(1)\n",
    "crop_train_data = udata.TensorDataset(crop_voxel_train, train_label)\n",
    "crop_train_data, crop_validate_data = udata.random_split(crop_train_data, [train_batch_size, validate_batch_size])\n",
    "crop_voxel_loader = udata.DataLoader(crop_train_data, batch_size, shuffle=True)\n",
    "crop_voxel_loaderv = udata.DataLoader(crop_validate_data, batch_size, shuffle=True)"
   ]
  },
  {
   "cell_type": "markdown",
   "metadata": {
    "pycharm": {
     "metadata": false
    }
   },
   "source": [
    "We can now build the model."
   ]
  },
  {
   "cell_type": "code",
   "execution_count": null,
   "metadata": {
    "pycharm": {
     "is_executing": false,
     "metadata": false,
     "name": "#%%\n"
    },
    "scrolled": true
   },
   "outputs": [
    {
     "data": {
      "application/vnd.jupyter.widget-view+json": {
       "model_id": "8071bc2f7bdf466184ad968fa90dcf21",
       "version_major": 2,
       "version_minor": 0
      },
      "text/plain": [
       "HBox(children=(IntProgress(value=0, description='training', max=25, style=ProgressStyle(description_width='ini…"
      ]
     },
     "metadata": {},
     "output_type": "display_data"
    },
    {
     "name": "stdout",
     "output_type": "stream",
     "text": [
      "\n",
      "loss:  0.2390819489955902\n",
      "accuracy:  0.6186667084693909\n"
     ]
    },
    {
     "data": {
      "application/vnd.jupyter.widget-view+json": {
       "model_id": "a64653c9be444307bbfcec3602916e4a",
       "version_major": 2,
       "version_minor": 0
      },
      "text/plain": [
       "HBox(children=(IntProgress(value=0, description='validating', max=7, style=ProgressStyle(description_width='in…"
      ]
     },
     "metadata": {},
     "output_type": "display_data"
    },
    {
     "name": "stdout",
     "output_type": "stream",
     "text": [
      "\n",
      "loss:  0.22302262485027313\n",
      "accuracy:  0.6095238327980042\n"
     ]
    },
    {
     "data": {
      "application/vnd.jupyter.widget-view+json": {
       "model_id": "7d8dbd3159ce472e9361d808f034fe48",
       "version_major": 2,
       "version_minor": 0
      },
      "text/plain": [
       "HBox(children=(IntProgress(value=0, description='training', max=25, style=ProgressStyle(description_width='ini…"
      ]
     },
     "metadata": {},
     "output_type": "display_data"
    },
    {
     "name": "stdout",
     "output_type": "stream",
     "text": [
      "\n",
      "loss:  0.2269986867904663\n",
      "accuracy:  0.6560001373291016\n"
     ]
    },
    {
     "data": {
      "application/vnd.jupyter.widget-view+json": {
       "model_id": "9815e0de51c140ffa5e654ea19b20e8f",
       "version_major": 2,
       "version_minor": 0
      },
      "text/plain": [
       "HBox(children=(IntProgress(value=0, description='validating', max=7, style=ProgressStyle(description_width='in…"
      ]
     },
     "metadata": {},
     "output_type": "display_data"
    },
    {
     "name": "stdout",
     "output_type": "stream",
     "text": [
      "\n",
      "loss:  0.23836612701416016\n",
      "accuracy:  0.571428656578064\n"
     ]
    },
    {
     "data": {
      "application/vnd.jupyter.widget-view+json": {
       "model_id": "67fcc90685ce476ebf0705aa79759f7b",
       "version_major": 2,
       "version_minor": 0
      },
      "text/plain": [
       "HBox(children=(IntProgress(value=0, description='training', max=25, style=ProgressStyle(description_width='ini…"
      ]
     },
     "metadata": {},
     "output_type": "display_data"
    },
    {
     "name": "stdout",
     "output_type": "stream",
     "text": [
      "\n",
      "loss:  0.2245134860277176\n",
      "accuracy:  0.626666784286499\n"
     ]
    },
    {
     "data": {
      "application/vnd.jupyter.widget-view+json": {
       "model_id": "e0f8c048db51428d86a869d564c7bfae",
       "version_major": 2,
       "version_minor": 0
      },
      "text/plain": [
       "HBox(children=(IntProgress(value=0, description='validating', max=7, style=ProgressStyle(description_width='in…"
      ]
     },
     "metadata": {},
     "output_type": "display_data"
    },
    {
     "name": "stdout",
     "output_type": "stream",
     "text": [
      "\n",
      "loss:  0.2516498267650604\n",
      "accuracy:  0.5809523463249207\n"
     ]
    },
    {
     "data": {
      "application/vnd.jupyter.widget-view+json": {
       "model_id": "a399a647866d4b08a95123f1f42d6910",
       "version_major": 2,
       "version_minor": 0
      },
      "text/plain": [
       "HBox(children=(IntProgress(value=0, description='training', max=25, style=ProgressStyle(description_width='ini…"
      ]
     },
     "metadata": {},
     "output_type": "display_data"
    },
    {
     "name": "stdout",
     "output_type": "stream",
     "text": [
      "\n",
      "loss:  0.22695964574813843\n",
      "accuracy:  0.6480001211166382\n"
     ]
    },
    {
     "data": {
      "application/vnd.jupyter.widget-view+json": {
       "model_id": "7e69de515d924e36ae5e78414c5a604f",
       "version_major": 2,
       "version_minor": 0
      },
      "text/plain": [
       "HBox(children=(IntProgress(value=0, description='validating', max=7, style=ProgressStyle(description_width='in…"
      ]
     },
     "metadata": {},
     "output_type": "display_data"
    },
    {
     "name": "stdout",
     "output_type": "stream",
     "text": [
      "\n",
      "loss:  0.215408593416214\n",
      "accuracy:  0.6095237731933594\n"
     ]
    },
    {
     "data": {
      "application/vnd.jupyter.widget-view+json": {
       "model_id": "d0a22ade95d24998a69a350cfe045059",
       "version_major": 2,
       "version_minor": 0
      },
      "text/plain": [
       "HBox(children=(IntProgress(value=0, description='training', max=25, style=ProgressStyle(description_width='ini…"
      ]
     },
     "metadata": {},
     "output_type": "display_data"
    },
    {
     "name": "stdout",
     "output_type": "stream",
     "text": [
      "\n",
      "loss:  0.22206443548202515\n",
      "accuracy:  0.6293334364891052\n"
     ]
    },
    {
     "data": {
      "application/vnd.jupyter.widget-view+json": {
       "model_id": "bfa7db66cd224b58a349aad13dc03558",
       "version_major": 2,
       "version_minor": 0
      },
      "text/plain": [
       "HBox(children=(IntProgress(value=0, description='validating', max=7, style=ProgressStyle(description_width='in…"
      ]
     },
     "metadata": {},
     "output_type": "display_data"
    },
    {
     "name": "stdout",
     "output_type": "stream",
     "text": [
      "\n",
      "loss:  0.22967903316020966\n",
      "accuracy:  0.5809524655342102\n"
     ]
    },
    {
     "data": {
      "application/vnd.jupyter.widget-view+json": {
       "model_id": "a84d29fdbdbe4081bc1fce74a4892c34",
       "version_major": 2,
       "version_minor": 0
      },
      "text/plain": [
       "HBox(children=(IntProgress(value=0, description='training', max=25, style=ProgressStyle(description_width='ini…"
      ]
     },
     "metadata": {},
     "output_type": "display_data"
    },
    {
     "name": "stdout",
     "output_type": "stream",
     "text": [
      "\n",
      "loss:  0.2143627554178238\n",
      "accuracy:  0.642666757106781\n"
     ]
    },
    {
     "data": {
      "application/vnd.jupyter.widget-view+json": {
       "model_id": "1ac96e9e2e0846e08937d111169da5e2",
       "version_major": 2,
       "version_minor": 0
      },
      "text/plain": [
       "HBox(children=(IntProgress(value=0, description='validating', max=7, style=ProgressStyle(description_width='in…"
      ]
     },
     "metadata": {},
     "output_type": "display_data"
    },
    {
     "name": "stdout",
     "output_type": "stream",
     "text": [
      "\n",
      "loss:  0.24214176833629608\n",
      "accuracy:  0.5428572297096252\n"
     ]
    },
    {
     "data": {
      "application/vnd.jupyter.widget-view+json": {
       "model_id": "18c21ea00a7a4b6e94e0e5ccd7872764",
       "version_major": 2,
       "version_minor": 0
      },
      "text/plain": [
       "HBox(children=(IntProgress(value=0, description='training', max=25, style=ProgressStyle(description_width='ini…"
      ]
     },
     "metadata": {},
     "output_type": "display_data"
    },
    {
     "name": "stdout",
     "output_type": "stream",
     "text": [
      "\n",
      "loss:  0.22524717450141907\n",
      "accuracy:  0.642666757106781\n"
     ]
    },
    {
     "data": {
      "application/vnd.jupyter.widget-view+json": {
       "model_id": "ec66e52f470a4745b354d76f70a79059",
       "version_major": 2,
       "version_minor": 0
      },
      "text/plain": [
       "HBox(children=(IntProgress(value=0, description='validating', max=7, style=ProgressStyle(description_width='in…"
      ]
     },
     "metadata": {},
     "output_type": "display_data"
    },
    {
     "name": "stdout",
     "output_type": "stream",
     "text": [
      "\n",
      "loss:  0.2232247292995453\n",
      "accuracy:  0.5809523463249207\n"
     ]
    },
    {
     "data": {
      "application/vnd.jupyter.widget-view+json": {
       "model_id": "fad3758316a345529982c4af889c6a81",
       "version_major": 2,
       "version_minor": 0
      },
      "text/plain": [
       "HBox(children=(IntProgress(value=0, description='training', max=25, style=ProgressStyle(description_width='ini…"
      ]
     },
     "metadata": {},
     "output_type": "display_data"
    },
    {
     "name": "stdout",
     "output_type": "stream",
     "text": [
      "\n",
      "loss:  0.21820291876792908\n",
      "accuracy:  0.6560000777244568\n"
     ]
    },
    {
     "data": {
      "application/vnd.jupyter.widget-view+json": {
       "model_id": "8741196a20a040b8a32560fe8fe4bdc5",
       "version_major": 2,
       "version_minor": 0
      },
      "text/plain": [
       "HBox(children=(IntProgress(value=0, description='validating', max=7, style=ProgressStyle(description_width='in…"
      ]
     },
     "metadata": {},
     "output_type": "display_data"
    },
    {
     "name": "stdout",
     "output_type": "stream",
     "text": [
      "\n",
      "loss:  0.23259107768535614\n",
      "accuracy:  0.571428656578064\n"
     ]
    },
    {
     "data": {
      "application/vnd.jupyter.widget-view+json": {
       "model_id": "ae9b7a01c5bf4370b8e758f40085a21c",
       "version_major": 2,
       "version_minor": 0
      },
      "text/plain": [
       "HBox(children=(IntProgress(value=0, description='training', max=25, style=ProgressStyle(description_width='ini…"
      ]
     },
     "metadata": {},
     "output_type": "display_data"
    },
    {
     "name": "stdout",
     "output_type": "stream",
     "text": [
      "\n",
      "loss:  0.2140943706035614\n",
      "accuracy:  0.6906667351722717\n"
     ]
    },
    {
     "data": {
      "application/vnd.jupyter.widget-view+json": {
       "model_id": "df03bc013e8f487ba918941dcff68eeb",
       "version_major": 2,
       "version_minor": 0
      },
      "text/plain": [
       "HBox(children=(IntProgress(value=0, description='validating', max=7, style=ProgressStyle(description_width='in…"
      ]
     },
     "metadata": {},
     "output_type": "display_data"
    },
    {
     "name": "stdout",
     "output_type": "stream",
     "text": [
      "\n",
      "loss:  0.20009945333003998\n",
      "accuracy:  0.6095237731933594\n"
     ]
    },
    {
     "data": {
      "application/vnd.jupyter.widget-view+json": {
       "model_id": "87f7b92d7a494ff580ebd63f01eba6a0",
       "version_major": 2,
       "version_minor": 0
      },
      "text/plain": [
       "HBox(children=(IntProgress(value=0, description='training', max=25, style=ProgressStyle(description_width='ini…"
      ]
     },
     "metadata": {},
     "output_type": "display_data"
    },
    {
     "name": "stdout",
     "output_type": "stream",
     "text": [
      "\n",
      "loss:  0.2210243195295334\n",
      "accuracy:  0.6666668057441711\n"
     ]
    },
    {
     "data": {
      "application/vnd.jupyter.widget-view+json": {
       "model_id": "b8fc4f35004a402e9fa90ed05e1405c4",
       "version_major": 2,
       "version_minor": 0
      },
      "text/plain": [
       "HBox(children=(IntProgress(value=0, description='validating', max=7, style=ProgressStyle(description_width='in…"
      ]
     },
     "metadata": {},
     "output_type": "display_data"
    },
    {
     "name": "stdout",
     "output_type": "stream",
     "text": [
      "\n",
      "loss:  0.20609258115291595\n",
      "accuracy:  0.5809524655342102\n"
     ]
    },
    {
     "data": {
      "application/vnd.jupyter.widget-view+json": {
       "model_id": "c5aaf261e20c478786aeb7e1933affb2",
       "version_major": 2,
       "version_minor": 0
      },
      "text/plain": [
       "HBox(children=(IntProgress(value=0, description='training', max=25, style=ProgressStyle(description_width='ini…"
      ]
     },
     "metadata": {},
     "output_type": "display_data"
    },
    {
     "name": "stdout",
     "output_type": "stream",
     "text": [
      "\n",
      "loss:  0.20810005068778992\n",
      "accuracy:  0.6933334469795227\n"
     ]
    },
    {
     "data": {
      "application/vnd.jupyter.widget-view+json": {
       "model_id": "87d88667625a400fb4a24e366b3a614f",
       "version_major": 2,
       "version_minor": 0
      },
      "text/plain": [
       "HBox(children=(IntProgress(value=0, description='validating', max=7, style=ProgressStyle(description_width='in…"
      ]
     },
     "metadata": {},
     "output_type": "display_data"
    },
    {
     "name": "stdout",
     "output_type": "stream",
     "text": [
      "\n",
      "loss:  0.2161097228527069\n",
      "accuracy:  0.5904762148857117\n"
     ]
    },
    {
     "data": {
      "application/vnd.jupyter.widget-view+json": {
       "model_id": "b7b14cb8ac77460fbc2aa3721d864451",
       "version_major": 2,
       "version_minor": 0
      },
      "text/plain": [
       "HBox(children=(IntProgress(value=0, description='training', max=25, style=ProgressStyle(description_width='ini…"
      ]
     },
     "metadata": {},
     "output_type": "display_data"
    },
    {
     "name": "stdout",
     "output_type": "stream",
     "text": [
      "\n",
      "loss:  0.20738358795642853\n",
      "accuracy:  0.6853334903717041\n"
     ]
    },
    {
     "data": {
      "application/vnd.jupyter.widget-view+json": {
       "model_id": "436b5daaf8a94c7ebf4ce2b84c06eb54",
       "version_major": 2,
       "version_minor": 0
      },
      "text/plain": [
       "HBox(children=(IntProgress(value=0, description='validating', max=7, style=ProgressStyle(description_width='in…"
      ]
     },
     "metadata": {},
     "output_type": "display_data"
    },
    {
     "name": "stdout",
     "output_type": "stream",
     "text": [
      "\n",
      "loss:  0.23065759241580963\n",
      "accuracy:  0.6190477013587952\n"
     ]
    },
    {
     "data": {
      "application/vnd.jupyter.widget-view+json": {
       "model_id": "e3b02b22addd403d91ae81770f5be157",
       "version_major": 2,
       "version_minor": 0
      },
      "text/plain": [
       "HBox(children=(IntProgress(value=0, description='training', max=25, style=ProgressStyle(description_width='ini…"
      ]
     },
     "metadata": {},
     "output_type": "display_data"
    },
    {
     "name": "stdout",
     "output_type": "stream",
     "text": [
      "\n",
      "loss:  0.20133857429027557\n",
      "accuracy:  0.6746667623519897\n"
     ]
    },
    {
     "data": {
      "application/vnd.jupyter.widget-view+json": {
       "model_id": "8708fad938fe46589404eff1825194c3",
       "version_major": 2,
       "version_minor": 0
      },
      "text/plain": [
       "HBox(children=(IntProgress(value=0, description='validating', max=7, style=ProgressStyle(description_width='in…"
      ]
     },
     "metadata": {},
     "output_type": "display_data"
    },
    {
     "name": "stdout",
     "output_type": "stream",
     "text": [
      "\n",
      "loss:  0.1966933310031891\n",
      "accuracy:  0.5999999642372131\n"
     ]
    },
    {
     "data": {
      "application/vnd.jupyter.widget-view+json": {
       "model_id": "23a7090d429c458caa3b34e4580f775b",
       "version_major": 2,
       "version_minor": 0
      },
      "text/plain": [
       "HBox(children=(IntProgress(value=0, description='training', max=25, style=ProgressStyle(description_width='ini…"
      ]
     },
     "metadata": {},
     "output_type": "display_data"
    },
    {
     "name": "stdout",
     "output_type": "stream",
     "text": [
      "\n",
      "loss:  0.20041730999946594\n",
      "accuracy:  0.7146668434143066\n"
     ]
    },
    {
     "data": {
      "application/vnd.jupyter.widget-view+json": {
       "model_id": "873323b5e95f4f4fb2cedb7fdb4778fb",
       "version_major": 2,
       "version_minor": 0
      },
      "text/plain": [
       "HBox(children=(IntProgress(value=0, description='validating', max=7, style=ProgressStyle(description_width='in…"
      ]
     },
     "metadata": {},
     "output_type": "display_data"
    },
    {
     "name": "stdout",
     "output_type": "stream",
     "text": [
      "\n",
      "loss:  0.19175343215465546\n",
      "accuracy:  0.6285714507102966\n"
     ]
    },
    {
     "data": {
      "application/vnd.jupyter.widget-view+json": {
       "model_id": "e39283a72dc7422c8bf68a03dd0d6f3b",
       "version_major": 2,
       "version_minor": 0
      },
      "text/plain": [
       "HBox(children=(IntProgress(value=0, description='training', max=25, style=ProgressStyle(description_width='ini…"
      ]
     },
     "metadata": {},
     "output_type": "display_data"
    },
    {
     "name": "stdout",
     "output_type": "stream",
     "text": [
      "\n",
      "loss:  0.19453196227550507\n",
      "accuracy:  0.7226668000221252\n"
     ]
    },
    {
     "data": {
      "application/vnd.jupyter.widget-view+json": {
       "model_id": "ffabac5aef244a268697b8b5d4e1b256",
       "version_major": 2,
       "version_minor": 0
      },
      "text/plain": [
       "HBox(children=(IntProgress(value=0, description='validating', max=7, style=ProgressStyle(description_width='in…"
      ]
     },
     "metadata": {},
     "output_type": "display_data"
    },
    {
     "name": "stdout",
     "output_type": "stream",
     "text": [
      "\n",
      "loss:  0.19470271468162537\n",
      "accuracy:  0.5904761552810669\n"
     ]
    },
    {
     "data": {
      "application/vnd.jupyter.widget-view+json": {
       "model_id": "0bb07a6259ab4437a1079ca1c96314d3",
       "version_major": 2,
       "version_minor": 0
      },
      "text/plain": [
       "HBox(children=(IntProgress(value=0, description='training', max=25, style=ProgressStyle(description_width='ini…"
      ]
     },
     "metadata": {},
     "output_type": "display_data"
    },
    {
     "name": "stdout",
     "output_type": "stream",
     "text": [
      "\n",
      "loss:  0.19520659744739532\n",
      "accuracy:  0.6960001587867737\n"
     ]
    },
    {
     "data": {
      "application/vnd.jupyter.widget-view+json": {
       "model_id": "9461579dc2dd41c5ae5b494db5de7f7f",
       "version_major": 2,
       "version_minor": 0
      },
      "text/plain": [
       "HBox(children=(IntProgress(value=0, description='validating', max=7, style=ProgressStyle(description_width='in…"
      ]
     },
     "metadata": {},
     "output_type": "display_data"
    },
    {
     "name": "stdout",
     "output_type": "stream",
     "text": [
      "\n",
      "loss:  0.20832403004169464\n",
      "accuracy:  0.6285714507102966\n"
     ]
    },
    {
     "data": {
      "application/vnd.jupyter.widget-view+json": {
       "model_id": "8514c8eb4acd410fa12aabcae3e539d9",
       "version_major": 2,
       "version_minor": 0
      },
      "text/plain": [
       "HBox(children=(IntProgress(value=0, description='training', max=25, style=ProgressStyle(description_width='ini…"
      ]
     },
     "metadata": {},
     "output_type": "display_data"
    },
    {
     "name": "stdout",
     "output_type": "stream",
     "text": [
      "\n",
      "loss:  0.21004609763622284\n",
      "accuracy:  0.661333441734314\n"
     ]
    },
    {
     "data": {
      "application/vnd.jupyter.widget-view+json": {
       "model_id": "d160b659b2774fe5bed3a3c18e832eed",
       "version_major": 2,
       "version_minor": 0
      },
      "text/plain": [
       "HBox(children=(IntProgress(value=0, description='validating', max=7, style=ProgressStyle(description_width='in…"
      ]
     },
     "metadata": {},
     "output_type": "display_data"
    },
    {
     "name": "stdout",
     "output_type": "stream",
     "text": [
      "\n",
      "loss:  0.22069552540779114\n",
      "accuracy:  0.6095238327980042\n"
     ]
    },
    {
     "data": {
      "application/vnd.jupyter.widget-view+json": {
       "model_id": "375de396c9134040abe444ab143271e7",
       "version_major": 2,
       "version_minor": 0
      },
      "text/plain": [
       "HBox(children=(IntProgress(value=0, description='training', max=25, style=ProgressStyle(description_width='ini…"
      ]
     },
     "metadata": {},
     "output_type": "display_data"
    },
    {
     "name": "stdout",
     "output_type": "stream",
     "text": [
      "\n",
      "loss:  0.20112121105194092\n",
      "accuracy:  0.6933334469795227\n"
     ]
    },
    {
     "data": {
      "application/vnd.jupyter.widget-view+json": {
       "model_id": "82043471595943fab52160bfe301bd2d",
       "version_major": 2,
       "version_minor": 0
      },
      "text/plain": [
       "HBox(children=(IntProgress(value=0, description='validating', max=7, style=ProgressStyle(description_width='in…"
      ]
     },
     "metadata": {},
     "output_type": "display_data"
    },
    {
     "name": "stdout",
     "output_type": "stream",
     "text": [
      "\n",
      "loss:  0.18599964678287506\n",
      "accuracy:  0.6380952596664429\n"
     ]
    },
    {
     "data": {
      "application/vnd.jupyter.widget-view+json": {
       "model_id": "c5a744ed61b746f9828eedb3780e9250",
       "version_major": 2,
       "version_minor": 0
      },
      "text/plain": [
       "HBox(children=(IntProgress(value=0, description='training', max=25, style=ProgressStyle(description_width='ini…"
      ]
     },
     "metadata": {},
     "output_type": "display_data"
    },
    {
     "name": "stdout",
     "output_type": "stream",
     "text": [
      "\n",
      "loss:  0.19320380687713623\n",
      "accuracy:  0.6986667513847351\n"
     ]
    },
    {
     "data": {
      "application/vnd.jupyter.widget-view+json": {
       "model_id": "3f8088bdb9d7433f91d5f59cc327de81",
       "version_major": 2,
       "version_minor": 0
      },
      "text/plain": [
       "HBox(children=(IntProgress(value=0, description='validating', max=7, style=ProgressStyle(description_width='in…"
      ]
     },
     "metadata": {},
     "output_type": "display_data"
    },
    {
     "name": "stdout",
     "output_type": "stream",
     "text": [
      "\n",
      "loss:  0.19714342057704926\n",
      "accuracy:  0.6095237731933594\n"
     ]
    },
    {
     "data": {
      "application/vnd.jupyter.widget-view+json": {
       "model_id": "d0f4d9cc73d54dbb91ee32e9add82abd",
       "version_major": 2,
       "version_minor": 0
      },
      "text/plain": [
       "HBox(children=(IntProgress(value=0, description='training', max=25, style=ProgressStyle(description_width='ini…"
      ]
     },
     "metadata": {},
     "output_type": "display_data"
    },
    {
     "name": "stdout",
     "output_type": "stream",
     "text": [
      "\n",
      "loss:  0.18300144374370575\n",
      "accuracy:  0.7493334412574768\n"
     ]
    },
    {
     "data": {
      "application/vnd.jupyter.widget-view+json": {
       "model_id": "b35639947afa4d89b13d9375d43ffc13",
       "version_major": 2,
       "version_minor": 0
      },
      "text/plain": [
       "HBox(children=(IntProgress(value=0, description='validating', max=7, style=ProgressStyle(description_width='in…"
      ]
     },
     "metadata": {},
     "output_type": "display_data"
    },
    {
     "name": "stdout",
     "output_type": "stream",
     "text": [
      "\n",
      "loss:  0.17974352836608887\n",
      "accuracy:  0.6857143044471741\n"
     ]
    },
    {
     "data": {
      "application/vnd.jupyter.widget-view+json": {
       "model_id": "509ac0bb649c47429af2e02ca2b1edb7",
       "version_major": 2,
       "version_minor": 0
      },
      "text/plain": [
       "HBox(children=(IntProgress(value=0, description='training', max=25, style=ProgressStyle(description_width='ini…"
      ]
     },
     "metadata": {},
     "output_type": "display_data"
    }
   ],
   "source": [
    "writer = SummaryWriter()\n",
    "torch.cuda.empty_cache()\n",
    "net = DenseSharp().cuda()\n",
    "batch_num = int(train_batch_size / batch_size) + 1\n",
    "batch_numv = int(validate_batch_size / batch_size) + 1\n",
    "losses = torch.zeros(EPOCH * batch_num)\n",
    "accuracys = torch.zeros(EPOCH * batch_num)\n",
    "lossesv = torch.zeros(EPOCH * batch_num)\n",
    "accuracysv = torch.zeros(EPOCH * batch_num)\n",
    "optimizer = torch.optim.Adam(net.parameters(), lr=LR)\n",
    "loss_func = nn.MSELoss()\n",
    "max_accuracy = 0\n",
    "for epoch in range(EPOCH):    \n",
    "    for j, (voxel, label) in enumerate(tqdm_notebook(resize_voxel_loader, desc='training')):\n",
    "        voxel = voxel.cuda()\n",
    "        label = label.cuda()\n",
    "        prediction = net(voxel)\n",
    "        loss = loss_func(prediction, label.to(dtype=torch.float32))\n",
    "        optimizer.zero_grad()\n",
    "        loss.backward()\n",
    "        optimizer.step()\n",
    "        losses[epoch * batch_num + j] = loss.item()\n",
    "        prediction[prediction > 0.5] = 1\n",
    "        prediction[prediction < 0.5] = 0\n",
    "        accuracy = (((prediction.round() == label.round()).sum()).to(dtype=torch.float32) / batch_size).item()\n",
    "        accuracys[epoch * batch_num + j] = accuracy\n",
    "        writer.add_scalar('scalar/loss', loss.item(), epoch * batch_num + j)\n",
    "        writer.add_scalar('scalar/accuracy', accuracy, epoch * batch_num + j)\n",
    "    avg_loss = torch.mean(losses[epoch * batch_num:(epoch + 1) * batch_num])\n",
    "    avg_accuracy = torch.mean(accuracys[epoch * batch_num:(epoch + 1) * batch_num])\n",
    "    print('loss: ', avg_loss.item())\n",
    "    print('accuracy: ', avg_accuracy.item())\n",
    "    \n",
    "    for j, (voxel, label) in enumerate(tqdm_notebook(resize_voxel_loaderv, desc='validating')):\n",
    "        voxel = voxel.cuda()\n",
    "        label = label.cuda()\n",
    "        prediction = net(voxel)\n",
    "        loss = loss_func(prediction, label.to(dtype=torch.float32))\n",
    "        optimizer.zero_grad()\n",
    "        loss.backward()\n",
    "        optimizer.step()\n",
    "        lossesv[epoch * batch_numv + j] = loss.item()\n",
    "        prediction[prediction > 0.5] = 1\n",
    "        prediction[prediction < 0.5] = 0\n",
    "        accuracy = (((prediction.round() == label.round()).sum()).to(dtype=torch.float32) / batch_size).item()\n",
    "        accuracysv[epoch * batch_numv + j] = accuracy\n",
    "        writer.add_scalar('scalar/loss_validate', loss.item(), epoch * batch_numv + j)\n",
    "        writer.add_scalar('scalar/accuracy_validate', accuracy, epoch * batch_numv + j)\n",
    "    avg_loss = torch.mean(lossesv[epoch * batch_numv:(epoch + 1) * batch_numv])\n",
    "    avg_accuracy = torch.mean(accuracysv[epoch * batch_numv:(epoch + 1) * batch_numv])\n",
    "    print('loss: ', avg_loss.item())\n",
    "    print('accuracy: ', avg_accuracy.item())\n",
    "    \n",
    "    if avg_accuracy > max_accuracy:\n",
    "        max_accuracy = avg_accuracy.item()\n",
    "        torch.save(net.state_dict(), 'net_best.pkl')\n"
   ]
  },
  {
   "cell_type": "markdown",
   "metadata": {
    "pycharm": {
     "name": "#%% md\n"
    }
   },
   "source": [
    "visualization"
   ]
  },
  {
   "cell_type": "code",
   "execution_count": null,
   "metadata": {
    "pycharm": {
     "is_executing": false
    }
   },
   "outputs": [],
   "source": [
    "writer.close()\n",
    "print(max_accuracy)"
   ]
  },
  {
   "cell_type": "code",
   "execution_count": null,
   "metadata": {
    "pycharm": {
     "is_executing": false
    }
   },
   "outputs": [],
   "source": [
    "torch.cuda.empty_cache()\n",
    "batch_size = 1\n",
    "net.load_state_dict(torch.load('net_best.pkl'))\n",
    "net = net.cpu()\n",
    "test_loader = udata.DataLoader(resize_voxel_test, batch_size, shuffle=False)\n",
    "prediction = torch.zeros(test_batch_size)\n",
    "for j, voxel in enumerate(tqdm_notebook(test_loader)):\n",
    "    # voxel = voxel.cuda()\n",
    "    predict = net(voxel)\n",
    "    prediction[j] = predict.cpu().detach()"
   ]
  },
  {
   "cell_type": "code",
   "execution_count": null,
   "metadata": {
    "pycharm": {
     "is_executing": false
    }
   },
   "outputs": [],
   "source": [
    "submit = pd.read_csv('data/sampleSubmission.csv')\n",
    "submit['Predicted'] = prediction.numpy()\n",
    "submit.to_csv('submit120705.csv', index=False)\n"
   ]
  },
  {
   "cell_type": "code",
   "execution_count": null,
   "metadata": {
    "pycharm": {
     "is_executing": false
    }
   },
   "outputs": [],
   "source": [
    "prediction_abs = prediction.clone()\n",
    "prediction_abs[prediction_abs >= 0.5] = 1\n",
    "prediction_abs[prediction_abs < 0.5] = 0\n",
    "submit = pd.read_csv('data/sampleSubmission.csv')\n",
    "submit['Predicted'] = prediction_abs.numpy()\n",
    "submit.to_csv('submit120702_zc.csv', index=False)"
   ]
  },
  {
   "cell_type": "code",
   "execution_count": null,
   "metadata": {
    "pycharm": {
     "is_executing": false
    }
   },
   "outputs": [],
   "source": [
    "print(prediction.numpy())"
   ]
  },
  {
   "cell_type": "code",
   "execution_count": null,
   "metadata": {
    "pycharm": {
     "metadata": false,
     "name": "#%%\n"
    }
   },
   "outputs": [],
   "source": [
    "l1, = plt.plot(list(range(500)), accuracysv[2500:3000])\n",
    "plt.legend(handles=[l1], labels=['train'], loc='best')\n",
    "plt.ylabel('loss')\n",
    "plt.xlabel('epoch')\n",
    "plt.title('Loss on Train Set')\n",
    "plt.show()\n"
   ]
  },
  {
   "cell_type": "code",
   "execution_count": null,
   "metadata": {
    "pycharm": {}
   },
   "outputs": [],
   "source": []
  }
 ],
 "metadata": {
  "kernelspec": {
   "display_name": "Python 3",
   "language": "python",
   "name": "python3"
  },
  "language_info": {
   "codemirror_mode": {
    "name": "ipython",
    "version": 3
   },
   "file_extension": ".py",
   "mimetype": "text/x-python",
   "name": "python",
   "nbconvert_exporter": "python",
   "pygments_lexer": "ipython3",
   "version": "3.7.5"
  }
 },
 "nbformat": 4,
 "nbformat_minor": 1
}
